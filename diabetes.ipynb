{
 "cells": [
  {
   "cell_type": "code",
   "execution_count": 145,
   "id": "ddedc075",
   "metadata": {},
   "outputs": [],
   "source": [
    "import pandas as pd \n",
    "import numpy as np \n",
    "import matplotlib.pyplot as plt"
   ]
  },
  {
   "cell_type": "code",
   "execution_count": 146,
   "id": "7fff30b7",
   "metadata": {},
   "outputs": [],
   "source": [
    "dataset= pd.read_csv(\"C:/Users/sanka/OneDrive/Desktop/dataset.csv\")"
   ]
  },
  {
   "cell_type": "code",
   "execution_count": 147,
   "id": "45398015",
   "metadata": {},
   "outputs": [
    {
     "data": {
      "text/html": [
       "<div>\n",
       "<style scoped>\n",
       "    .dataframe tbody tr th:only-of-type {\n",
       "        vertical-align: middle;\n",
       "    }\n",
       "\n",
       "    .dataframe tbody tr th {\n",
       "        vertical-align: top;\n",
       "    }\n",
       "\n",
       "    .dataframe thead th {\n",
       "        text-align: right;\n",
       "    }\n",
       "</style>\n",
       "<table border=\"1\" class=\"dataframe\">\n",
       "  <thead>\n",
       "    <tr style=\"text-align: right;\">\n",
       "      <th></th>\n",
       "      <th>Num.</th>\n",
       "      <th>subject_ID</th>\n",
       "      <th>Sex(M/F)</th>\n",
       "      <th>Age(year)</th>\n",
       "      <th>Height(cm)</th>\n",
       "      <th>Weight(kg)</th>\n",
       "      <th>Systolic Blood Pressure(mmHg)</th>\n",
       "      <th>Diastolic Blood Pressure(mmHg)</th>\n",
       "      <th>Heart Rate(b/m)</th>\n",
       "      <th>BMI(kg/m^2)</th>\n",
       "      <th>average segment value</th>\n",
       "      <th>Hypertension</th>\n",
       "      <th>Diabetes</th>\n",
       "      <th>cerebral infarction</th>\n",
       "      <th>cerebrovascular disease</th>\n",
       "    </tr>\n",
       "  </thead>\n",
       "  <tbody>\n",
       "    <tr>\n",
       "      <th>0</th>\n",
       "      <td>1</td>\n",
       "      <td>2</td>\n",
       "      <td>Female</td>\n",
       "      <td>45</td>\n",
       "      <td>152</td>\n",
       "      <td>63</td>\n",
       "      <td>161</td>\n",
       "      <td>89</td>\n",
       "      <td>97</td>\n",
       "      <td>27.27</td>\n",
       "      <td>0.953333</td>\n",
       "      <td>Stage 2 hypertension</td>\n",
       "      <td>Non-Diabetes</td>\n",
       "      <td>No cerebral infarction</td>\n",
       "      <td>No cerebrovascular disease</td>\n",
       "    </tr>\n",
       "    <tr>\n",
       "      <th>1</th>\n",
       "      <td>2</td>\n",
       "      <td>3</td>\n",
       "      <td>Female</td>\n",
       "      <td>50</td>\n",
       "      <td>157</td>\n",
       "      <td>50</td>\n",
       "      <td>160</td>\n",
       "      <td>93</td>\n",
       "      <td>76</td>\n",
       "      <td>20.28</td>\n",
       "      <td>0.766667</td>\n",
       "      <td>Stage 2 hypertension</td>\n",
       "      <td>Non-Diabetes</td>\n",
       "      <td>No cerebral infarction</td>\n",
       "      <td>No cerebrovascular disease</td>\n",
       "    </tr>\n",
       "    <tr>\n",
       "      <th>2</th>\n",
       "      <td>3</td>\n",
       "      <td>6</td>\n",
       "      <td>Female</td>\n",
       "      <td>47</td>\n",
       "      <td>150</td>\n",
       "      <td>47</td>\n",
       "      <td>101</td>\n",
       "      <td>71</td>\n",
       "      <td>79</td>\n",
       "      <td>20.89</td>\n",
       "      <td>0.603333</td>\n",
       "      <td>Normal</td>\n",
       "      <td>Non-Diabetes</td>\n",
       "      <td>No cerebral infarction</td>\n",
       "      <td>No cerebrovascular disease</td>\n",
       "    </tr>\n",
       "    <tr>\n",
       "      <th>3</th>\n",
       "      <td>4</td>\n",
       "      <td>8</td>\n",
       "      <td>Male</td>\n",
       "      <td>45</td>\n",
       "      <td>172</td>\n",
       "      <td>65</td>\n",
       "      <td>136</td>\n",
       "      <td>93</td>\n",
       "      <td>87</td>\n",
       "      <td>21.97</td>\n",
       "      <td>0.893333</td>\n",
       "      <td>Prehypertension</td>\n",
       "      <td>Non-Diabetes</td>\n",
       "      <td>No cerebral infarction</td>\n",
       "      <td>No cerebrovascular disease</td>\n",
       "    </tr>\n",
       "    <tr>\n",
       "      <th>4</th>\n",
       "      <td>5</td>\n",
       "      <td>9</td>\n",
       "      <td>Female</td>\n",
       "      <td>46</td>\n",
       "      <td>155</td>\n",
       "      <td>65</td>\n",
       "      <td>123</td>\n",
       "      <td>73</td>\n",
       "      <td>73</td>\n",
       "      <td>27.06</td>\n",
       "      <td>0.730000</td>\n",
       "      <td>Prehypertension</td>\n",
       "      <td>Non-Diabetes</td>\n",
       "      <td>No cerebral infarction</td>\n",
       "      <td>No cerebrovascular disease</td>\n",
       "    </tr>\n",
       "  </tbody>\n",
       "</table>\n",
       "</div>"
      ],
      "text/plain": [
       "   Num.  subject_ID Sex(M/F)  Age(year)  Height(cm)  Weight(kg)  \\\n",
       "0     1           2   Female         45         152          63   \n",
       "1     2           3   Female         50         157          50   \n",
       "2     3           6   Female         47         150          47   \n",
       "3     4           8     Male         45         172          65   \n",
       "4     5           9   Female         46         155          65   \n",
       "\n",
       "   Systolic Blood Pressure(mmHg)  Diastolic Blood Pressure(mmHg)  \\\n",
       "0                            161                              89   \n",
       "1                            160                              93   \n",
       "2                            101                              71   \n",
       "3                            136                              93   \n",
       "4                            123                              73   \n",
       "\n",
       "   Heart Rate(b/m)  BMI(kg/m^2)  average segment value          Hypertension  \\\n",
       "0               97        27.27               0.953333  Stage 2 hypertension   \n",
       "1               76        20.28               0.766667  Stage 2 hypertension   \n",
       "2               79        20.89               0.603333                Normal   \n",
       "3               87        21.97               0.893333       Prehypertension   \n",
       "4               73        27.06               0.730000       Prehypertension   \n",
       "\n",
       "       Diabetes     cerebral infarction     cerebrovascular disease  \n",
       "0  Non-Diabetes  No cerebral infarction  No cerebrovascular disease  \n",
       "1  Non-Diabetes  No cerebral infarction  No cerebrovascular disease  \n",
       "2  Non-Diabetes  No cerebral infarction  No cerebrovascular disease  \n",
       "3  Non-Diabetes  No cerebral infarction  No cerebrovascular disease  \n",
       "4  Non-Diabetes  No cerebral infarction  No cerebrovascular disease  "
      ]
     },
     "execution_count": 147,
     "metadata": {},
     "output_type": "execute_result"
    }
   ],
   "source": [
    "dataset.head(5)"
   ]
  },
  {
   "cell_type": "code",
   "execution_count": 148,
   "id": "aa8b74b8",
   "metadata": {},
   "outputs": [
    {
     "name": "stdout",
     "output_type": "stream",
     "text": [
      "[[1 2 'Female' ... 97 27.27 0.953333333]\n",
      " [2 3 'Female' ... 76 20.28 0.766666667]\n",
      " [3 6 'Female' ... 79 20.89 0.603333333]\n",
      " ...\n",
      " [217 417 'Male' ... 72 17.76 1.273333333]\n",
      " [218 418 'Male' ... 67 21.05 0.963333333]\n",
      " [219 419 'Male' ... 65 18.94 0.98]]\n"
     ]
    }
   ],
   "source": [
    "X = dataset.iloc[:, :-4].values\n",
    "print(X)"
   ]
  },
  {
   "cell_type": "code",
   "execution_count": 160,
   "id": "383a9592",
   "metadata": {},
   "outputs": [
    {
     "name": "stdout",
     "output_type": "stream",
     "text": [
      "['Non-Diabetes' 'Non-Diabetes' 'Non-Diabetes' 'Non-Diabetes'\n",
      " 'Non-Diabetes' 'Non-Diabetes' 'Non-Diabetes' 'Non-Diabetes'\n",
      " 'Non-Diabetes' 'Non-Diabetes' 'Non-Diabetes' 'Non-Diabetes'\n",
      " 'Non-Diabetes' 'Non-Diabetes' 'Non-Diabetes' 'Non-Diabetes'\n",
      " 'Non-Diabetes' 'Non-Diabetes' 'Non-Diabetes' 'Non-Diabetes'\n",
      " 'Non-Diabetes' 'Non-Diabetes' 'Non-Diabetes' 'Non-Diabetes'\n",
      " 'Type 2 Diabetes' 'Non-Diabetes' 'Non-Diabetes' 'Non-Diabetes'\n",
      " 'Non-Diabetes' 'Non-Diabetes' 'Non-Diabetes' 'Non-Diabetes'\n",
      " 'Non-Diabetes' 'Non-Diabetes' 'Non-Diabetes' 'Non-Diabetes'\n",
      " 'Non-Diabetes' 'Non-Diabetes' 'Non-Diabetes' 'Non-Diabetes'\n",
      " 'Non-Diabetes' 'Non-Diabetes' 'Non-Diabetes' 'Non-Diabetes'\n",
      " 'Non-Diabetes' 'Non-Diabetes' 'Non-Diabetes' 'Non-Diabetes'\n",
      " 'Non-Diabetes' 'Non-Diabetes' 'Non-Diabetes' 'Non-Diabetes'\n",
      " 'Non-Diabetes' 'Non-Diabetes' 'Non-Diabetes' 'Non-Diabetes'\n",
      " 'Non-Diabetes' 'Non-Diabetes' 'Non-Diabetes' 'Non-Diabetes'\n",
      " 'Non-Diabetes' 'Non-Diabetes' 'Non-Diabetes' 'Non-Diabetes'\n",
      " 'Non-Diabetes' 'Non-Diabetes' 'Non-Diabetes' 'Non-Diabetes'\n",
      " 'Non-Diabetes' 'Non-Diabetes' 'Non-Diabetes' 'Non-Diabetes'\n",
      " 'Non-Diabetes' 'Non-Diabetes' 'Non-Diabetes' 'Non-Diabetes'\n",
      " 'Non-Diabetes' 'Non-Diabetes' 'Non-Diabetes' 'Non-Diabetes'\n",
      " 'Non-Diabetes' 'Non-Diabetes' 'Non-Diabetes' 'Non-Diabetes'\n",
      " 'Non-Diabetes' 'Non-Diabetes' 'Non-Diabetes' 'Non-Diabetes'\n",
      " 'Non-Diabetes' 'Non-Diabetes' 'Non-Diabetes' 'Non-Diabetes'\n",
      " 'Non-Diabetes' 'Non-Diabetes' 'Non-Diabetes' 'Non-Diabetes'\n",
      " 'Non-Diabetes' 'Non-Diabetes' 'Non-Diabetes' 'Non-Diabetes'\n",
      " 'Non-Diabetes' 'Non-Diabetes' 'Non-Diabetes' 'Non-Diabetes'\n",
      " 'Non-Diabetes' 'Non-Diabetes' 'Non-Diabetes' 'Non-Diabetes'\n",
      " 'Non-Diabetes' 'Non-Diabetes' 'Non-Diabetes' 'Non-Diabetes'\n",
      " 'Non-Diabetes' 'Non-Diabetes' 'Non-Diabetes' 'Non-Diabetes'\n",
      " 'Non-Diabetes' 'Non-Diabetes' 'Non-Diabetes' 'Non-Diabetes'\n",
      " 'Non-Diabetes' 'Non-Diabetes' 'Non-Diabetes' 'Non-Diabetes'\n",
      " 'Non-Diabetes' 'Non-Diabetes' 'Non-Diabetes' 'Non-Diabetes'\n",
      " 'Non-Diabetes' 'Non-Diabetes' 'Non-Diabetes' 'Non-Diabetes'\n",
      " 'Non-Diabetes' 'Non-Diabetes' 'Non-Diabetes' 'Non-Diabetes'\n",
      " 'Non-Diabetes' 'Non-Diabetes' 'Non-Diabetes' 'Non-Diabetes'\n",
      " 'Non-Diabetes' 'Non-Diabetes' 'Non-Diabetes' 'Non-Diabetes'\n",
      " 'Non-Diabetes' 'Non-Diabetes' 'Non-Diabetes' 'Non-Diabetes'\n",
      " 'Non-Diabetes' 'Non-Diabetes' 'Non-Diabetes' 'Non-Diabetes'\n",
      " 'Non-Diabetes' 'Non-Diabetes' 'Non-Diabetes' 'Non-Diabetes'\n",
      " 'Non-Diabetes' 'Non-Diabetes' 'Non-Diabetes' 'Non-Diabetes'\n",
      " 'Non-Diabetes' 'Non-Diabetes' 'Non-Diabetes' 'Non-Diabetes'\n",
      " 'Non-Diabetes' 'Non-Diabetes' 'Type 2 Diabetes' 'Type 2 Diabetes'\n",
      " 'Type 2 Diabetes' 'Type 2 Diabetes' 'Type 2 Diabetes' 'Type 2 Diabetes'\n",
      " 'Type 2 Diabetes' 'Type 2 Diabetes' 'Type 2 Diabetes' 'Type 2 Diabetes'\n",
      " 'Type 2 Diabetes' 'Type 2 Diabetes' 'Type 2 Diabetes' 'Type 2 Diabetes'\n",
      " 'Type 2 Diabetes' 'Type 2 Diabetes' 'Type 2 Diabetes' 'Type 2 Diabetes'\n",
      " 'Type 2 Diabetes' 'Type 2 Diabetes' 'Type 2 Diabetes' 'Type 2 Diabetes'\n",
      " 'Type 2 Diabetes' 'Type 2 Diabetes' 'Type 2 Diabetes' 'Type 2 Diabetes'\n",
      " 'Type 2 Diabetes' 'Type 2 Diabetes' 'Type 2 Diabetes' 'Type 2 Diabetes'\n",
      " 'Type 2 Diabetes' 'Type 2 Diabetes' 'Type 2 Diabetes' 'Type 2 Diabetes'\n",
      " 'Type 2 Diabetes' 'Type 2 Diabetes' 'Type 2 Diabetes' 'Non-Diabetes'\n",
      " 'Non-Diabetes' 'Non-Diabetes' 'Non-Diabetes' 'Non-Diabetes'\n",
      " 'Non-Diabetes' 'Non-Diabetes' 'Non-Diabetes' 'Non-Diabetes'\n",
      " 'Non-Diabetes' 'Non-Diabetes' 'Non-Diabetes' 'Non-Diabetes'\n",
      " 'Non-Diabetes' 'Non-Diabetes' 'Non-Diabetes']\n"
     ]
    }
   ],
   "source": [
    "y = dataset.iloc[:, -3].values\n",
    "print(y)"
   ]
  },
  {
   "cell_type": "markdown",
   "id": "4e079839",
   "metadata": {},
   "source": [
    "## Encoding categorical columns"
   ]
  },
  {
   "cell_type": "code",
   "execution_count": 161,
   "id": "730de7c5",
   "metadata": {},
   "outputs": [
    {
     "data": {
      "text/plain": [
       "array([[1, 2, 0, ..., 97, 27.27, 0.953333333],\n",
       "       [2, 3, 0, ..., 76, 20.28, 0.766666667],\n",
       "       [3, 6, 0, ..., 79, 20.89, 0.603333333],\n",
       "       ...,\n",
       "       [217, 417, 1, ..., 72, 17.76, 1.273333333],\n",
       "       [218, 418, 1, ..., 67, 21.05, 0.963333333],\n",
       "       [219, 419, 1, ..., 65, 18.94, 0.98]], dtype=object)"
      ]
     },
     "execution_count": 161,
     "metadata": {},
     "output_type": "execute_result"
    }
   ],
   "source": [
    "from sklearn.preprocessing import LabelEncoder\n",
    "le = LabelEncoder()\n",
    "X[:, 2] = le.fit_transform(X[:, 2])  # for gender column \n",
    "X           #0 for female 1 for male"
   ]
  },
  {
   "cell_type": "code",
   "execution_count": 162,
   "id": "d53e6a04",
   "metadata": {},
   "outputs": [],
   "source": [
    "from sklearn.model_selection import train_test_split\n",
    "X_train, X_test, y_train, y_test = train_test_split(X, y, test_size = 0.25, random_state = 0)\n"
   ]
  },
  {
   "cell_type": "code",
   "execution_count": 163,
   "id": "5ca4dddc",
   "metadata": {},
   "outputs": [
    {
     "data": {
      "text/plain": [
       "array([[195, 248, 0, ..., 67, 24.65, 0.493333333],\n",
       "       [5, 9, 0, ..., 73, 27.06, 0.73],\n",
       "       [216, 416, 0, ..., 79, 19.31, 0.97],\n",
       "       ...,\n",
       "       [118, 161, 1, ..., 82, 20.2, 0.86],\n",
       "       [48, 63, 0, ..., 62, 22.6, 0.95],\n",
       "       [173, 223, 1, ..., 66, 35.34, 0.623333333]], dtype=object)"
      ]
     },
     "execution_count": 163,
     "metadata": {},
     "output_type": "execute_result"
    }
   ],
   "source": [
    "X_train"
   ]
  },
  {
   "cell_type": "code",
   "execution_count": 164,
   "id": "ff67f7c0",
   "metadata": {},
   "outputs": [
    {
     "data": {
      "text/plain": [
       "array([[153, 201, 0, 65, 165, 72, 143, 77, 63, 26.45, 0.723333333],\n",
       "       [75, 108, 1, 58, 160, 65, 137, 65, 72, 25.39, 0.68],\n",
       "       [72, 105, 0, 86, 161, 70, 130, 66, 69, 27.01, 0.77],\n",
       "       [162, 212, 1, 71, 155, 47, 159, 86, 62, 19.56, 0.63],\n",
       "       [163, 213, 1, 63, 169, 62, 151, 91, 55, 21.71, 0.913333333],\n",
       "       [144, 191, 0, 50, 163, 87, 110, 75, 78, 32.74, 1.06],\n",
       "       [64, 95, 0, 64, 163, 72, 153, 71, 59, 27.1, 1.023333333],\n",
       "       [154, 203, 0, 63, 153, 54, 123, 62, 52, 23.07, 0.943333333],\n",
       "       [219, 419, 1, 24, 175, 58, 108, 68, 65, 18.94, 0.98],\n",
       "       [136, 182, 0, 67, 156, 56, 113, 55, 61, 23.01, 0.85],\n",
       "       [150, 198, 1, 54, 155, 82, 157, 94, 76, 34.13, 1.07],\n",
       "       [6, 10, 0, 48, 160, 68, 124, 62, 70, 26.56, 0.523333333],\n",
       "       [91, 128, 1, 73, 160, 62, 123, 68, 67, 24.22, 0.876666667],\n",
       "       [169, 219, 1, 59, 165, 68, 149, 92, 78, 24.98, 0.97],\n",
       "       [203, 259, 0, 84, 152, 44, 127, 65, 60, 19.04, 0.626666667],\n",
       "       [192, 245, 1, 54, 170, 60, 137, 80, 81, 20.76, 2.743333333],\n",
       "       [202, 257, 0, 28, 160, 58, 122, 70, 88, 22.66, 0.73],\n",
       "       [97, 137, 0, 79, 148, 40, 128, 64, 73, 18.26, 0.55],\n",
       "       [107, 149, 0, 85, 162, 54, 118, 68, 72, 20.58, 0.53],\n",
       "       [76, 110, 1, 60, 154, 50, 120, 63, 86, 21.08, 0.87],\n",
       "       [56, 86, 0, 71, 159, 80, 170, 87, 74, 31.64, 0.693333333],\n",
       "       [13, 17, 0, 48, 155, 57, 117, 70, 75, 23.73, 0.83],\n",
       "       [158, 208, 0, 61, 162, 64, 140, 87, 64, 24.39, 1.113333333],\n",
       "       [65, 96, 0, 76, 158, 62, 136, 71, 72, 24.84, 0.816666667],\n",
       "       [38, 52, 1, 65, 163, 60, 111, 62, 73, 22.58, 0.85],\n",
       "       [131, 175, 1, 66, 165, 65, 125, 74, 70, 23.88, 0.673333333],\n",
       "       [102, 142, 0, 54, 152, 60, 137, 84, 62, 25.97, 0.816666667],\n",
       "       [62, 92, 0, 53, 160, 64, 128, 76, 73, 25.0, 1.05],\n",
       "       [9, 13, 1, 58, 165, 55, 89, 42, 63, 20.2, 0.886666667],\n",
       "       [19, 24, 0, 46, 150, 48, 114, 65, 79, 21.33, 0.743333333],\n",
       "       [180, 231, 0, 38, 155, 70, 122, 69, 60, 29.14, 1.24],\n",
       "       [16, 21, 0, 48, 150, 57, 178, 86, 80, 25.33, 0.713333333],\n",
       "       [140, 186, 0, 72, 160, 55, 131, 74, 75, 21.48, 0.803333333],\n",
       "       [8, 12, 0, 53, 160, 70, 108, 73, 84, 27.34, 0.456666667],\n",
       "       [125, 169, 1, 76, 162, 60, 140, 72, 70, 22.86, 0.946666667],\n",
       "       [160, 210, 1, 65, 160, 59, 147, 79, 68, 23.05, 0.736666667],\n",
       "       [137, 183, 1, 50, 160, 60, 131, 72, 73, 23.44, 0.32],\n",
       "       [145, 192, 0, 56, 158, 54, 123, 75, 63, 21.63, 0.84],\n",
       "       [200, 254, 0, 64, 150, 47, 124, 70, 77, 20.89, 0.7],\n",
       "       [156, 206, 0, 62, 156, 60, 128, 71, 65, 24.65, 0.733333333],\n",
       "       [67, 98, 1, 68, 170, 69, 116, 65, 70, 23.88, 0.906666667],\n",
       "       [34, 47, 0, 62, 148, 45, 133, 76, 80, 20.54, 0.746666667],\n",
       "       [90, 127, 0, 21, 159, 53, 110, 63, 85, 20.96, 0.703333333],\n",
       "       [159, 209, 0, 65, 166, 55, 139, 69, 63, 19.96, 0.71],\n",
       "       [197, 251, 1, 61, 167, 70, 132, 62, 75, 25.1, 0.976666667],\n",
       "       [174, 224, 1, 58, 163, 65, 113, 60, 67, 24.46, 0.876666667],\n",
       "       [186, 239, 1, 53, 175, 75, 138, 93, 65, 24.49, 0.77],\n",
       "       [208, 407, 0, 24, 155, 38, 96, 67, 82, 15.82, 0.806666667],\n",
       "       [17, 22, 1, 56, 167, 55, 124, 75, 93, 19.72, 0.52],\n",
       "       [146, 193, 1, 51, 170, 65, 123, 78, 72, 22.49, 0.64],\n",
       "       [201, 256, 0, 53, 158, 59, 102, 57, 80, 23.63, 0.973333333],\n",
       "       [147, 195, 1, 30, 196, 103, 121, 78, 60, 26.81, 0.833333333],\n",
       "       [23, 29, 1, 51, 170, 60, 129, 81, 91, 20.76, 0.426666667],\n",
       "       [184, 235, 1, 55, 170, 68, 119, 65, 84, 23.53, 0.996666667],\n",
       "       [46, 61, 1, 45, 168, 69, 117, 74, 59, 24.45, 0.88]], dtype=object)"
      ]
     },
     "execution_count": 164,
     "metadata": {},
     "output_type": "execute_result"
    }
   ],
   "source": [
    "X_test"
   ]
  },
  {
   "cell_type": "code",
   "execution_count": 165,
   "id": "bb8fc30e",
   "metadata": {},
   "outputs": [
    {
     "data": {
      "text/plain": [
       "array(['Type 2 Diabetes', 'Non-Diabetes', 'Non-Diabetes', 'Non-Diabetes',\n",
       "       'Non-Diabetes', 'Non-Diabetes', 'Non-Diabetes', 'Non-Diabetes',\n",
       "       'Non-Diabetes', 'Non-Diabetes', 'Non-Diabetes', 'Non-Diabetes',\n",
       "       'Non-Diabetes', 'Non-Diabetes', 'Non-Diabetes', 'Type 2 Diabetes',\n",
       "       'Non-Diabetes', 'Non-Diabetes', 'Non-Diabetes', 'Non-Diabetes',\n",
       "       'Non-Diabetes', 'Non-Diabetes', 'Type 2 Diabetes', 'Non-Diabetes',\n",
       "       'Non-Diabetes', 'Type 2 Diabetes', 'Non-Diabetes', 'Non-Diabetes',\n",
       "       'Non-Diabetes', 'Type 2 Diabetes', 'Non-Diabetes', 'Non-Diabetes',\n",
       "       'Non-Diabetes', 'Non-Diabetes', 'Non-Diabetes', 'Non-Diabetes',\n",
       "       'Non-Diabetes', 'Non-Diabetes', 'Non-Diabetes', 'Non-Diabetes',\n",
       "       'Type 2 Diabetes', 'Non-Diabetes', 'Non-Diabetes', 'Non-Diabetes',\n",
       "       'Non-Diabetes', 'Non-Diabetes', 'Non-Diabetes', 'Non-Diabetes',\n",
       "       'Type 2 Diabetes', 'Non-Diabetes', 'Non-Diabetes', 'Non-Diabetes',\n",
       "       'Non-Diabetes', 'Non-Diabetes', 'Non-Diabetes', 'Non-Diabetes',\n",
       "       'Non-Diabetes', 'Non-Diabetes', 'Non-Diabetes', 'Non-Diabetes',\n",
       "       'Non-Diabetes', 'Non-Diabetes', 'Non-Diabetes', 'Non-Diabetes',\n",
       "       'Non-Diabetes', 'Non-Diabetes', 'Type 2 Diabetes', 'Non-Diabetes',\n",
       "       'Non-Diabetes', 'Non-Diabetes', 'Non-Diabetes', 'Non-Diabetes',\n",
       "       'Non-Diabetes', 'Non-Diabetes', 'Non-Diabetes', 'Non-Diabetes',\n",
       "       'Non-Diabetes', 'Non-Diabetes', 'Non-Diabetes', 'Non-Diabetes',\n",
       "       'Non-Diabetes', 'Non-Diabetes', 'Non-Diabetes', 'Type 2 Diabetes',\n",
       "       'Non-Diabetes', 'Non-Diabetes', 'Non-Diabetes', 'Non-Diabetes',\n",
       "       'Non-Diabetes', 'Non-Diabetes', 'Type 2 Diabetes',\n",
       "       'Type 2 Diabetes', 'Type 2 Diabetes', 'Type 2 Diabetes',\n",
       "       'Non-Diabetes', 'Type 2 Diabetes', 'Non-Diabetes', 'Non-Diabetes',\n",
       "       'Non-Diabetes', 'Non-Diabetes', 'Non-Diabetes', 'Non-Diabetes',\n",
       "       'Non-Diabetes', 'Non-Diabetes', 'Type 2 Diabetes', 'Non-Diabetes',\n",
       "       'Non-Diabetes', 'Non-Diabetes', 'Type 2 Diabetes', 'Non-Diabetes',\n",
       "       'Non-Diabetes', 'Non-Diabetes', 'Non-Diabetes', 'Non-Diabetes',\n",
       "       'Type 2 Diabetes', 'Non-Diabetes', 'Non-Diabetes', 'Non-Diabetes',\n",
       "       'Non-Diabetes', 'Non-Diabetes', 'Non-Diabetes', 'Non-Diabetes',\n",
       "       'Type 2 Diabetes', 'Non-Diabetes', 'Non-Diabetes', 'Non-Diabetes',\n",
       "       'Type 2 Diabetes', 'Non-Diabetes', 'Type 2 Diabetes',\n",
       "       'Non-Diabetes', 'Non-Diabetes', 'Type 2 Diabetes', 'Non-Diabetes',\n",
       "       'Non-Diabetes', 'Type 2 Diabetes', 'Non-Diabetes', 'Non-Diabetes',\n",
       "       'Non-Diabetes', 'Non-Diabetes', 'Non-Diabetes', 'Non-Diabetes',\n",
       "       'Non-Diabetes', 'Non-Diabetes', 'Non-Diabetes', 'Non-Diabetes',\n",
       "       'Type 2 Diabetes', 'Non-Diabetes', 'Non-Diabetes',\n",
       "       'Type 2 Diabetes', 'Non-Diabetes', 'Non-Diabetes', 'Non-Diabetes',\n",
       "       'Non-Diabetes', 'Non-Diabetes', 'Non-Diabetes', 'Non-Diabetes',\n",
       "       'Non-Diabetes', 'Non-Diabetes', 'Type 2 Diabetes', 'Non-Diabetes',\n",
       "       'Type 2 Diabetes', 'Non-Diabetes', 'Non-Diabetes',\n",
       "       'Type 2 Diabetes'], dtype=object)"
      ]
     },
     "execution_count": 165,
     "metadata": {},
     "output_type": "execute_result"
    }
   ],
   "source": [
    "y_train"
   ]
  },
  {
   "cell_type": "code",
   "execution_count": 166,
   "id": "1ce276f8",
   "metadata": {},
   "outputs": [
    {
     "data": {
      "text/plain": [
       "array(['Non-Diabetes', 'Non-Diabetes', 'Non-Diabetes', 'Non-Diabetes',\n",
       "       'Non-Diabetes', 'Non-Diabetes', 'Non-Diabetes', 'Non-Diabetes',\n",
       "       'Non-Diabetes', 'Non-Diabetes', 'Non-Diabetes', 'Non-Diabetes',\n",
       "       'Non-Diabetes', 'Type 2 Diabetes', 'Type 2 Diabetes',\n",
       "       'Type 2 Diabetes', 'Type 2 Diabetes', 'Non-Diabetes',\n",
       "       'Non-Diabetes', 'Non-Diabetes', 'Non-Diabetes', 'Non-Diabetes',\n",
       "       'Non-Diabetes', 'Non-Diabetes', 'Non-Diabetes', 'Non-Diabetes',\n",
       "       'Non-Diabetes', 'Non-Diabetes', 'Non-Diabetes', 'Non-Diabetes',\n",
       "       'Type 2 Diabetes', 'Non-Diabetes', 'Non-Diabetes', 'Non-Diabetes',\n",
       "       'Non-Diabetes', 'Non-Diabetes', 'Non-Diabetes', 'Non-Diabetes',\n",
       "       'Type 2 Diabetes', 'Non-Diabetes', 'Non-Diabetes', 'Non-Diabetes',\n",
       "       'Non-Diabetes', 'Non-Diabetes', 'Type 2 Diabetes',\n",
       "       'Type 2 Diabetes', 'Type 2 Diabetes', 'Non-Diabetes',\n",
       "       'Non-Diabetes', 'Non-Diabetes', 'Type 2 Diabetes', 'Non-Diabetes',\n",
       "       'Non-Diabetes', 'Type 2 Diabetes', 'Non-Diabetes'], dtype=object)"
      ]
     },
     "execution_count": 166,
     "metadata": {},
     "output_type": "execute_result"
    }
   ],
   "source": [
    "y_test "
   ]
  },
  {
   "cell_type": "code",
   "execution_count": 167,
   "id": "53fc8ccc",
   "metadata": {},
   "outputs": [],
   "source": [
    "from sklearn.preprocessing import StandardScaler\n",
    "sc = StandardScaler()\n",
    "X_train = sc.fit_transform(X_train)\n",
    "X_test = sc.transform(X_test)"
   ]
  },
  {
   "cell_type": "code",
   "execution_count": 168,
   "id": "f0b9e7a3",
   "metadata": {},
   "outputs": [
    {
     "data": {
      "text/plain": [
       "DecisionTreeClassifier(criterion='entropy', random_state=0)"
      ]
     },
     "execution_count": 168,
     "metadata": {},
     "output_type": "execute_result"
    }
   ],
   "source": [
    "from sklearn.tree import DecisionTreeClassifier\n",
    "classifier = DecisionTreeClassifier(criterion = 'entropy', random_state = 0)\n",
    "classifier.fit(X_train, y_train)"
   ]
  },
  {
   "cell_type": "code",
   "execution_count": 1,
   "id": "97f03c59",
   "metadata": {},
   "outputs": [
    {
     "ename": "NameError",
     "evalue": "name 'classifier' is not defined",
     "output_type": "error",
     "traceback": [
      "\u001b[1;31m---------------------------------------------------------------------------\u001b[0m",
      "\u001b[1;31mNameError\u001b[0m                                 Traceback (most recent call last)",
      "\u001b[1;32m~\\AppData\\Local\\Temp/ipykernel_16804/3767960246.py\u001b[0m in \u001b[0;36m<module>\u001b[1;34m\u001b[0m\n\u001b[1;32m----> 1\u001b[1;33m \u001b[0my_pred\u001b[0m \u001b[1;33m=\u001b[0m \u001b[0mclassifier\u001b[0m\u001b[1;33m.\u001b[0m\u001b[0mpredict\u001b[0m\u001b[1;33m(\u001b[0m\u001b[0mX_test\u001b[0m\u001b[1;33m)\u001b[0m\u001b[1;33m\u001b[0m\u001b[1;33m\u001b[0m\u001b[0m\n\u001b[0m\u001b[0;32m      2\u001b[0m \u001b[0mprint\u001b[0m\u001b[1;33m(\u001b[0m\u001b[0my_pred\u001b[0m\u001b[1;33m)\u001b[0m\u001b[1;33m\u001b[0m\u001b[1;33m\u001b[0m\u001b[0m\n\u001b[0;32m      3\u001b[0m \u001b[0mprint\u001b[0m\u001b[1;33m(\u001b[0m\u001b[0mnp\u001b[0m\u001b[1;33m.\u001b[0m\u001b[0mconcatenate\u001b[0m\u001b[1;33m(\u001b[0m\u001b[1;33m(\u001b[0m\u001b[0my_pred\u001b[0m\u001b[1;33m.\u001b[0m\u001b[0mreshape\u001b[0m\u001b[1;33m(\u001b[0m\u001b[0mlen\u001b[0m\u001b[1;33m(\u001b[0m\u001b[0my_pred\u001b[0m\u001b[1;33m)\u001b[0m\u001b[1;33m,\u001b[0m\u001b[1;36m1\u001b[0m\u001b[1;33m)\u001b[0m\u001b[1;33m,\u001b[0m \u001b[0my_test\u001b[0m\u001b[1;33m.\u001b[0m\u001b[0mreshape\u001b[0m\u001b[1;33m(\u001b[0m\u001b[0mlen\u001b[0m\u001b[1;33m(\u001b[0m\u001b[0my_test\u001b[0m\u001b[1;33m)\u001b[0m\u001b[1;33m,\u001b[0m\u001b[1;36m1\u001b[0m\u001b[1;33m)\u001b[0m\u001b[1;33m)\u001b[0m\u001b[1;33m,\u001b[0m\u001b[1;36m1\u001b[0m\u001b[1;33m)\u001b[0m\u001b[1;33m)\u001b[0m\u001b[1;33m\u001b[0m\u001b[1;33m\u001b[0m\u001b[0m\n",
      "\u001b[1;31mNameError\u001b[0m: name 'classifier' is not defined"
     ]
    }
   ],
   "source": [
    "y_pred = classifier.predict(X_test)\n",
    "print(np.concatenate((y_pred.reshape(len(y_pred),1), y_test.reshape(len(y_test),1)),1))"
   ]
  },
  {
   "cell_type": "code",
   "execution_count": 170,
   "id": "a3022124",
   "metadata": {},
   "outputs": [
    {
     "name": "stdout",
     "output_type": "stream",
     "text": [
      "[[44  0]\n",
      " [ 1 10]]\n"
     ]
    },
    {
     "data": {
      "text/plain": [
       "0.9818181818181818"
      ]
     },
     "execution_count": 170,
     "metadata": {},
     "output_type": "execute_result"
    }
   ],
   "source": [
    "from sklearn.metrics import confusion_matrix, accuracy_score\n",
    "cm = confusion_matrix(y_test, y_pred)\n",
    "print(cm)\n",
    "accuracy_score(y_test, y_pred)"
   ]
  },
  {
   "cell_type": "code",
   "execution_count": null,
   "id": "a29ded98",
   "metadata": {},
   "outputs": [],
   "source": []
  },
  {
   "cell_type": "code",
   "execution_count": null,
   "id": "d363cdba",
   "metadata": {},
   "outputs": [],
   "source": []
  }
 ],
 "metadata": {
  "interpreter": {
   "hash": "6f7424ddc6acba2804043b248ff274042f691d866d3a9089dd2c7f50e673cb6d"
  },
  "kernelspec": {
   "display_name": "Python 3.10.1 64-bit",
   "language": "python",
   "name": "python3"
  },
  "language_info": {
   "codemirror_mode": {
    "name": "ipython",
    "version": 3
   },
   "file_extension": ".py",
   "mimetype": "text/x-python",
   "name": "python",
   "nbconvert_exporter": "python",
   "pygments_lexer": "ipython3",
   "version": "3.10.1"
  }
 },
 "nbformat": 4,
 "nbformat_minor": 5
}
