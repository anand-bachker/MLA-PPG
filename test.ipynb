{
 "cells": [
  {
   "cell_type": "code",
   "execution_count": 9,
   "metadata": {},
   "outputs": [
    {
     "name": "stdout",
     "output_type": "stream",
     "text": [
      "56 -88\n"
     ]
    }
   ],
   "source": [
    "import math\n",
    "x=[26,12,16,56,112,24]\n",
    "def Kurt(x):\n",
    "    size=len(x)\n",
    "    deviationSq=[]\n",
    "    deviationSq4=[]\n",
    "    mean=sum(x)/size\n",
    "    for i in x:\n",
    "        deviationSq.append((i-mean)**2)\n",
    "        deviationSq4.append((i-mean)**4)\n",
    "    SecondMoment=sum(deviationSq)/size\n",
    "    FourthMoment=sum(deviationSq4)/size\n",
    "    Kurtosis=FourthMoment/(SecondMoment**2)\n",
    "    return Kurtosis\n",
    "\n",
    "def maxminslope(x):\n",
    "    max=-math.inf\n",
    "    min=math.inf\n",
    "    size=len(x)\n",
    "    for i in range(size-1):\n",
    "        if x[i+1]-x[i]>max:\n",
    "            max=x[i+1]-x[i]\n",
    "        if x[i+1]-x[i]<min:\n",
    "            min=x[i+1]-x[i]\n",
    "    return max,min\n",
    "\n",
    "maxi,mini=maxminslope(x)\n",
    "print(maxi,mini)\n",
    "\n",
    "\n",
    "\n",
    "\n",
    "\n",
    "# print(Kurt(x))"
   ]
  }
 ],
 "metadata": {
  "interpreter": {
   "hash": "6f7424ddc6acba2804043b248ff274042f691d866d3a9089dd2c7f50e673cb6d"
  },
  "kernelspec": {
   "display_name": "Python 3.10.1 64-bit",
   "language": "python",
   "name": "python3"
  },
  "language_info": {
   "codemirror_mode": {
    "name": "ipython",
    "version": 3
   },
   "file_extension": ".py",
   "mimetype": "text/x-python",
   "name": "python",
   "nbconvert_exporter": "python",
   "pygments_lexer": "ipython3",
   "version": "3.10.1"
  },
  "orig_nbformat": 4
 },
 "nbformat": 4,
 "nbformat_minor": 2
}
