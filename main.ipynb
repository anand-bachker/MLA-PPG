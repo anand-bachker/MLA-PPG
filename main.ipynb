{
 "cells": [
  {
   "cell_type": "markdown",
   "metadata": {},
   "source": [
    "Removed First row from the PPG-BP dataset xlsx file\n",
    "Converted new xlsx to CSV for faster execution\n",
    "New CSV file named as SubjectData.csv\n",
    "PPGBPDatabase folder contains all the ppg cycle of the subjects in TXT format"
   ]
  },
  {
   "cell_type": "code",
   "execution_count": 161,
   "metadata": {},
   "outputs": [],
   "source": [
    "import pandas as pd\n",
    "import numpy as np\n",
    "import math\n",
    "import matplotlib.pyplot as plt\n",
    "import seaborn as sns\n",
    "from scipy.stats import skew\n"
   ]
  },
  {
   "cell_type": "markdown",
   "metadata": {},
   "source": [
    "## Importing SubjectData CSV file using Pandas"
   ]
  },
  {
   "cell_type": "code",
   "execution_count": 162,
   "metadata": {},
   "outputs": [
    {
     "data": {
      "text/html": [
       "<div>\n",
       "<style scoped>\n",
       "    .dataframe tbody tr th:only-of-type {\n",
       "        vertical-align: middle;\n",
       "    }\n",
       "\n",
       "    .dataframe tbody tr th {\n",
       "        vertical-align: top;\n",
       "    }\n",
       "\n",
       "    .dataframe thead th {\n",
       "        text-align: right;\n",
       "    }\n",
       "</style>\n",
       "<table border=\"1\" class=\"dataframe\">\n",
       "  <thead>\n",
       "    <tr style=\"text-align: right;\">\n",
       "      <th></th>\n",
       "      <th>Num.</th>\n",
       "      <th>subject_ID</th>\n",
       "      <th>Sex(M/F)</th>\n",
       "      <th>Age(year)</th>\n",
       "      <th>Height(cm)</th>\n",
       "      <th>Weight(kg)</th>\n",
       "      <th>Systolic Blood Pressure(mmHg)</th>\n",
       "      <th>Diastolic Blood Pressure(mmHg)</th>\n",
       "      <th>Heart Rate(b/m)</th>\n",
       "      <th>BMI(kg/m^2)</th>\n",
       "      <th>Hypertension</th>\n",
       "      <th>Diabetes</th>\n",
       "      <th>cerebral infarction</th>\n",
       "      <th>cerebrovascular disease</th>\n",
       "    </tr>\n",
       "  </thead>\n",
       "  <tbody>\n",
       "    <tr>\n",
       "      <th>0</th>\n",
       "      <td>1</td>\n",
       "      <td>2</td>\n",
       "      <td>Female</td>\n",
       "      <td>45</td>\n",
       "      <td>152</td>\n",
       "      <td>63</td>\n",
       "      <td>161</td>\n",
       "      <td>89</td>\n",
       "      <td>97</td>\n",
       "      <td>27.27</td>\n",
       "      <td>Stage 2 hypertension</td>\n",
       "      <td>NaN</td>\n",
       "      <td>NaN</td>\n",
       "      <td>NaN</td>\n",
       "    </tr>\n",
       "    <tr>\n",
       "      <th>1</th>\n",
       "      <td>2</td>\n",
       "      <td>3</td>\n",
       "      <td>Female</td>\n",
       "      <td>50</td>\n",
       "      <td>157</td>\n",
       "      <td>50</td>\n",
       "      <td>160</td>\n",
       "      <td>93</td>\n",
       "      <td>76</td>\n",
       "      <td>20.28</td>\n",
       "      <td>Stage 2 hypertension</td>\n",
       "      <td>NaN</td>\n",
       "      <td>NaN</td>\n",
       "      <td>NaN</td>\n",
       "    </tr>\n",
       "    <tr>\n",
       "      <th>2</th>\n",
       "      <td>3</td>\n",
       "      <td>6</td>\n",
       "      <td>Female</td>\n",
       "      <td>47</td>\n",
       "      <td>150</td>\n",
       "      <td>47</td>\n",
       "      <td>101</td>\n",
       "      <td>71</td>\n",
       "      <td>79</td>\n",
       "      <td>20.89</td>\n",
       "      <td>Normal</td>\n",
       "      <td>NaN</td>\n",
       "      <td>NaN</td>\n",
       "      <td>NaN</td>\n",
       "    </tr>\n",
       "    <tr>\n",
       "      <th>3</th>\n",
       "      <td>4</td>\n",
       "      <td>8</td>\n",
       "      <td>Male</td>\n",
       "      <td>45</td>\n",
       "      <td>172</td>\n",
       "      <td>65</td>\n",
       "      <td>136</td>\n",
       "      <td>93</td>\n",
       "      <td>87</td>\n",
       "      <td>21.97</td>\n",
       "      <td>Prehypertension</td>\n",
       "      <td>NaN</td>\n",
       "      <td>NaN</td>\n",
       "      <td>NaN</td>\n",
       "    </tr>\n",
       "    <tr>\n",
       "      <th>4</th>\n",
       "      <td>5</td>\n",
       "      <td>9</td>\n",
       "      <td>Female</td>\n",
       "      <td>46</td>\n",
       "      <td>155</td>\n",
       "      <td>65</td>\n",
       "      <td>123</td>\n",
       "      <td>73</td>\n",
       "      <td>73</td>\n",
       "      <td>27.06</td>\n",
       "      <td>Prehypertension</td>\n",
       "      <td>NaN</td>\n",
       "      <td>NaN</td>\n",
       "      <td>NaN</td>\n",
       "    </tr>\n",
       "  </tbody>\n",
       "</table>\n",
       "</div>"
      ],
      "text/plain": [
       "   Num.  subject_ID Sex(M/F)  Age(year)  Height(cm)  Weight(kg)  \\\n",
       "0     1           2   Female         45         152          63   \n",
       "1     2           3   Female         50         157          50   \n",
       "2     3           6   Female         47         150          47   \n",
       "3     4           8     Male         45         172          65   \n",
       "4     5           9   Female         46         155          65   \n",
       "\n",
       "   Systolic Blood Pressure(mmHg)  Diastolic Blood Pressure(mmHg)  \\\n",
       "0                            161                              89   \n",
       "1                            160                              93   \n",
       "2                            101                              71   \n",
       "3                            136                              93   \n",
       "4                            123                              73   \n",
       "\n",
       "   Heart Rate(b/m)  BMI(kg/m^2)          Hypertension Diabetes  \\\n",
       "0               97        27.27  Stage 2 hypertension      NaN   \n",
       "1               76        20.28  Stage 2 hypertension      NaN   \n",
       "2               79        20.89                Normal      NaN   \n",
       "3               87        21.97       Prehypertension      NaN   \n",
       "4               73        27.06       Prehypertension      NaN   \n",
       "\n",
       "  cerebral infarction cerebrovascular disease  \n",
       "0                 NaN                     NaN  \n",
       "1                 NaN                     NaN  \n",
       "2                 NaN                     NaN  \n",
       "3                 NaN                     NaN  \n",
       "4                 NaN                     NaN  "
      ]
     },
     "execution_count": 162,
     "metadata": {},
     "output_type": "execute_result"
    }
   ],
   "source": [
    "SubjectData=pd.read_csv('SubjectData.csv')\n",
    "SubjectData.head()"
   ]
  },
  {
   "cell_type": "markdown",
   "metadata": {},
   "source": [
    "### Data Cleaning\n",
    "Label encoding - converting the labels into numerical format <br>\n",
    "Such as <br>\n",
    "Encoding NaN with 0 in Cerebral Infarction and 'cerebral infarction' as 1 <br>\n",
    "0 = No Cerebral Infarction <br>\n",
    "1 = Cerebral Infarction"
   ]
  },
  {
   "cell_type": "code",
   "execution_count": 163,
   "metadata": {},
   "outputs": [],
   "source": [
    "from sklearn import preprocessing\n",
    "label_encoder = preprocessing.LabelEncoder()\n",
    "SubjectData['cerebral infarction']= label_encoder.fit_transform(SubjectData['cerebral infarction'])\n",
    "SubjectData['Hypertension']= label_encoder.fit_transform(SubjectData['Hypertension'])\n",
    "SubjectData['Diabetes']= label_encoder.fit_transform(SubjectData['Diabetes'])\n",
    "SubjectData['cerebrovascular disease']= label_encoder.fit_transform(SubjectData['cerebrovascular disease'])\n",
    "SubjectData['Sex(M/F)']= label_encoder.fit_transform(SubjectData['Sex(M/F)'])\n",
    " \n",
    "#SubjectData['cerebral infarction'].unique()\n"
   ]
  },
  {
   "cell_type": "code",
   "execution_count": 164,
   "metadata": {},
   "outputs": [
    {
     "name": "stdout",
     "output_type": "stream",
     "text": [
      "Total number of subjects : 219\n",
      "Total number of subjects with CI: 199\n",
      "Total number of subjects without CI: 20\n"
     ]
    }
   ],
   "source": [
    "countCI=SubjectData['cerebral infarction'].value_counts()\n",
    "print('Total number of subjects :',countCI[1]+countCI[0])\n",
    "print('Total number of subjects with CI:',countCI[1])\n",
    "print('Total number of subjects without CI:',countCI[0])"
   ]
  },
  {
   "cell_type": "markdown",
   "metadata": {},
   "source": [
    "### Importing PPG Cycle of the Target Patients in a dictionary\n"
   ]
  },
  {
   "cell_type": "code",
   "execution_count": 165,
   "metadata": {},
   "outputs": [],
   "source": [
    "baseurl='PPGBPDatabase/'\n",
    "PPGCycle={}\n",
    "for i in range(420):\n",
    "    try:\n",
    "        temp=[]\n",
    "        for j in range(1,4):\n",
    "            f=open(baseurl+f'{i}_{j}.txt','r')\n",
    "            data=f.readline()\n",
    "            data=data.split('\\t')\n",
    "            data=data[0:-1]\n",
    "            data=list(map(int,list(map(float,data))))\n",
    "            f.close()\n",
    "            temp.append(data)  \n",
    "        PPGCycle[str(i)]=temp\n",
    "    except:\n",
    "        continue\n"
   ]
  },
  {
   "cell_type": "markdown",
   "metadata": {},
   "source": [
    "## Sample Ploting of PPG Cycle of Subject 2"
   ]
  },
  {
   "cell_type": "code",
   "execution_count": 166,
   "metadata": {},
   "outputs": [
    {
     "data": {
      "image/png": "[encoded data removed]",
      "text/plain": [
       "<Figure size 432x288 with 1 Axes>"
      ]
     },
     "metadata": {
      "needs_background": "light"
     },
     "output_type": "display_data"
    }
   ],
   "source": [
    "C1=PPGCycle['2'][0]\n",
    "C2=PPGCycle['2'][1]\n",
    "C3=PPGCycle['2'][2]\n",
    "plt.plot(C1,label='Cycle1')\n",
    "plt.plot(C2,label='Cycle2')\n",
    "plt.plot(C3,label='Cycle3')\n",
    "plt.legend(['Cycle1','Cycle2','Cycle3'])\n",
    "plt.show()"
   ]
  },
  {
   "cell_type": "markdown",
   "metadata": {},
   "source": [
    "### Extracting Infromation from the PPGCycle"
   ]
  },
  {
   "cell_type": "markdown",
   "metadata": {},
   "source": [
    "# Functions to calculate Features and values\n"
   ]
  },
  {
   "cell_type": "code",
   "execution_count": 167,
   "metadata": {},
   "outputs": [],
   "source": [
    "def Kurt(x):\n",
    "    size=len(x)\n",
    "    deviationSq=[]\n",
    "    deviationSq4=[]\n",
    "    mean=sum(x)/size\n",
    "    for i in x:\n",
    "        deviationSq.append((i-mean)**2)\n",
    "        deviationSq4.append((i-mean)**4)\n",
    "    SecondMoment=sum(deviationSq)/size\n",
    "    FourthMoment=sum(deviationSq4)/size\n",
    "    Kurtosis=FourthMoment/(SecondMoment**2)\n",
    "    return Kurtosis\n",
    "\n",
    "def maxminslope(x):\n",
    "    max=-math.inf\n",
    "    min=math.inf\n",
    "    size=len(x)\n",
    "    for i in range(size-1):\n",
    "        if x[i+1]-x[i]>max:\n",
    "            max=x[i+1]-x[i]\n",
    "        if x[i+1]-x[i]<min:\n",
    "            min=x[i+1]-x[i]\n",
    "    return max,min\n",
    "\n",
    "\n",
    "def Conf(act,pred):\n",
    "    size=len(act)\n",
    "    act=list(map(int,act))\n",
    "    pred=list(map(int,pred))\n",
    "    # print(act)\n",
    "    # print(pred)\n",
    "    TN=0\n",
    "    FP=0\n",
    "    FN=0\n",
    "    TP=0\n",
    "    for i in range(size):\n",
    "        if(act[i]==0 and pred[i]==0):\n",
    "            TN+=1\n",
    "        elif(act[i]==0 and pred[i]==1):\n",
    "            FP+=1\n",
    "        elif(act[i]==1 and pred[i]==0):\n",
    "            FN+=1\n",
    "        elif(act[i]==1 and pred[i]==1):\n",
    "            TP+=1\n",
    "\n",
    "    print('TN:',TN)\n",
    "    print('FP:',FP)\n",
    "    print('FN:',FN)\n",
    "    print('TP:',TP)\n",
    "    # print('Accuracy:',(TP+TN)/size)\n",
    "    print('Precision:',TP/(TP+FP))\n",
    "    print('Recall:',TP/(TP+FN))\n",
    "    print('F1 Score:',2*TP/(2*TP+FP+FN))\n",
    "    return [[TN,FP],[FN,TP]]\n",
    "        \n",
    "def Skewness(x):\n",
    "    size=len(x)\n",
    "    mean=sum(x)/size\n",
    "    deviation=[]\n",
    "    deviationSq=[]\n",
    "    StandardDeviation=0\n",
    "    for i in x:\n",
    "        deviation.append((i-mean))\n",
    "        deviationSq.append((i-mean)**2)\n",
    "        StandardDeviation+=(i-mean)**2\n",
    "\n",
    "    StandardDeviation=(StandardDeviation/size)**0.5\n",
    "    Skewness=0\n",
    "    for i in deviation:\n",
    "        Skewness+=(i/StandardDeviation)**3\n",
    "    Skewness=Skewness*size/(size-1)/(size-2)\n",
    "    return Skewness\n",
    "\n",
    "\n",
    "\n",
    "\n",
    "\n",
    "\n",
    "\n",
    "\n",
    "\n"
   ]
  },
  {
   "cell_type": "code",
   "execution_count": 168,
   "metadata": {},
   "outputs": [],
   "source": [
    "extractPPGCycle={}\n",
    "CMean=[[],[],[],[]]\n",
    "CKurtosis=[[],[],[],[]]\n",
    "CSkewness=[[],[],[],[]]\n",
    "CMaxSlope=[[],[],[],[]]\n",
    "CMinSlope=[[],[],[],[]]\n",
    "for i in PPGCycle.keys():\n",
    "    temp=[]\n",
    "    alldata=[]\n",
    "    for j in range(3):\n",
    "        data=PPGCycle[i][j]\n",
    "        alldata+=data\n",
    "        tempdict={}\n",
    "        tempdict['Mean']=np.mean(data)\n",
    "        # tempdict['Kurtosis']=kurtosis(data, fisher=False)\n",
    "        tempdict['Kurtosis']=Kurt(data)\n",
    "        tempdict['Skewness']=Skewness(data)\n",
    "        tempdict['MaxSlope'],tempdict['MinSlope']=maxminslope(data)\n",
    "        CMean[j].append(tempdict['Mean'])\n",
    "        CKurtosis[j].append(tempdict['Kurtosis'])\n",
    "        CSkewness[j].append(tempdict['Skewness'])\n",
    "        CMaxSlope[j].append(tempdict['MaxSlope'])\n",
    "        CMinSlope[j].append(tempdict['MinSlope'])\n",
    "        temp.append(tempdict)\n",
    "    tempdict={}\n",
    "    tempdict['Mean']=np.mean(alldata)\n",
    "    tempdict['Kurtosis']=Kurt(alldata)\n",
    "    tempdict['Skewness']=Skewness(alldata)\n",
    "    tempdict['MaxSlope'],tempdict['MinSlope']=maxminslope(alldata)\n",
    "    CMean[3].append(tempdict['Mean'])\n",
    "    CKurtosis[3].append(tempdict['Kurtosis'])\n",
    "    CSkewness[3].append(tempdict['Skewness'])\n",
    "    CMaxSlope[3].append(tempdict['MaxSlope'])\n",
    "    CMinSlope[3].append(tempdict['MinSlope'])\n",
    "    temp.append(tempdict)\n",
    "    extractPPGCycle[i]=temp"
   ]
  },
  {
   "cell_type": "markdown",
   "metadata": {},
   "source": [
    "### Inserting Extracted Data into the SubjectData"
   ]
  },
  {
   "cell_type": "code",
   "execution_count": 169,
   "metadata": {},
   "outputs": [],
   "source": [
    "SubjectData['C1-Mean']=CMean[0]\n",
    "SubjectData['C1-Kurtosis']=CKurtosis[0]\n",
    "SubjectData['C1-Skewness']=CSkewness[0]\n",
    "SubjectData['C1-MaxSlope']=CMaxSlope[0]\n",
    "SubjectData['C1-MinSlope']=CMinSlope[0]\n",
    "SubjectData['C2-Mean']=CMean[1]\n",
    "SubjectData['C2-Kurtosis']=CKurtosis[1]\n",
    "SubjectData['C2-Skewness']=CSkewness[1]\n",
    "SubjectData['C2-MaxSlope']=CMaxSlope[1]\n",
    "SubjectData['C2-MinSlope']=CMinSlope[1]\n",
    "SubjectData['C3-Mean']=CMean[2]\n",
    "SubjectData['C3-Kurtosis']=CKurtosis[2]\n",
    "SubjectData['C3-Skewness']=CSkewness[2]\n",
    "SubjectData['C3-MaxSlope']=CMaxSlope[2]\n",
    "SubjectData['C3-MinSlope']=CMinSlope[2]\n",
    "SubjectData['C-Mean']=CMean[3]\n",
    "SubjectData['C-Kurtosis']=CKurtosis[3]\n",
    "SubjectData['C-Skewness']=CSkewness[3]\n",
    "SubjectData['C-MaxSlope']=CMaxSlope[3]\n",
    "SubjectData['C-MinSlope']=CMinSlope[3]\n",
    "#Min Max Kurtosis and Skewness Mean\n",
    "#Max slope of the line\n"
   ]
  },
  {
   "cell_type": "code",
   "execution_count": 170,
   "metadata": {},
   "outputs": [
    {
     "data": {
      "text/html": [
       "<div>\n",
       "<style scoped>\n",
       "    .dataframe tbody tr th:only-of-type {\n",
       "        vertical-align: middle;\n",
       "    }\n",
       "\n",
       "    .dataframe tbody tr th {\n",
       "        vertical-align: top;\n",
       "    }\n",
       "\n",
       "    .dataframe thead th {\n",
       "        text-align: right;\n",
       "    }\n",
       "</style>\n",
       "<table border=\"1\" class=\"dataframe\">\n",
       "  <thead>\n",
       "    <tr style=\"text-align: right;\">\n",
       "      <th></th>\n",
       "      <th>Num.</th>\n",
       "      <th>subject_ID</th>\n",
       "      <th>Sex(M/F)</th>\n",
       "      <th>Age(year)</th>\n",
       "      <th>Height(cm)</th>\n",
       "      <th>Weight(kg)</th>\n",
       "      <th>Systolic Blood Pressure(mmHg)</th>\n",
       "      <th>Diastolic Blood Pressure(mmHg)</th>\n",
       "      <th>Heart Rate(b/m)</th>\n",
       "      <th>BMI(kg/m^2)</th>\n",
       "      <th>...</th>\n",
       "      <th>C3-Mean</th>\n",
       "      <th>C3-Kurtosis</th>\n",
       "      <th>C3-Skewness</th>\n",
       "      <th>C3-MaxSlope</th>\n",
       "      <th>C3-MinSlope</th>\n",
       "      <th>C-Mean</th>\n",
       "      <th>C-Kurtosis</th>\n",
       "      <th>C-Skewness</th>\n",
       "      <th>C-MaxSlope</th>\n",
       "      <th>C-MinSlope</th>\n",
       "    </tr>\n",
       "  </thead>\n",
       "  <tbody>\n",
       "    <tr>\n",
       "      <th>0</th>\n",
       "      <td>1</td>\n",
       "      <td>2</td>\n",
       "      <td>0</td>\n",
       "      <td>45</td>\n",
       "      <td>152</td>\n",
       "      <td>63</td>\n",
       "      <td>161</td>\n",
       "      <td>89</td>\n",
       "      <td>97</td>\n",
       "      <td>27.27</td>\n",
       "      <td>...</td>\n",
       "      <td>2045.224762</td>\n",
       "      <td>2.223780</td>\n",
       "      <td>0.667033</td>\n",
       "      <td>65</td>\n",
       "      <td>-66</td>\n",
       "      <td>2038.692381</td>\n",
       "      <td>2.778840</td>\n",
       "      <td>0.662604</td>\n",
       "      <td>447</td>\n",
       "      <td>-87</td>\n",
       "    </tr>\n",
       "    <tr>\n",
       "      <th>1</th>\n",
       "      <td>2</td>\n",
       "      <td>3</td>\n",
       "      <td>0</td>\n",
       "      <td>50</td>\n",
       "      <td>157</td>\n",
       "      <td>50</td>\n",
       "      <td>160</td>\n",
       "      <td>93</td>\n",
       "      <td>76</td>\n",
       "      <td>20.28</td>\n",
       "      <td>...</td>\n",
       "      <td>2007.157143</td>\n",
       "      <td>1.883882</td>\n",
       "      <td>0.422054</td>\n",
       "      <td>49</td>\n",
       "      <td>-48</td>\n",
       "      <td>2004.373968</td>\n",
       "      <td>2.013632</td>\n",
       "      <td>0.449374</td>\n",
       "      <td>58</td>\n",
       "      <td>-60</td>\n",
       "    </tr>\n",
       "    <tr>\n",
       "      <th>2</th>\n",
       "      <td>3</td>\n",
       "      <td>6</td>\n",
       "      <td>0</td>\n",
       "      <td>47</td>\n",
       "      <td>150</td>\n",
       "      <td>47</td>\n",
       "      <td>101</td>\n",
       "      <td>71</td>\n",
       "      <td>79</td>\n",
       "      <td>20.89</td>\n",
       "      <td>...</td>\n",
       "      <td>2020.478571</td>\n",
       "      <td>1.817075</td>\n",
       "      <td>0.494501</td>\n",
       "      <td>46</td>\n",
       "      <td>-48</td>\n",
       "      <td>2013.143492</td>\n",
       "      <td>2.355045</td>\n",
       "      <td>0.504403</td>\n",
       "      <td>68</td>\n",
       "      <td>-135</td>\n",
       "    </tr>\n",
       "    <tr>\n",
       "      <th>3</th>\n",
       "      <td>4</td>\n",
       "      <td>8</td>\n",
       "      <td>1</td>\n",
       "      <td>45</td>\n",
       "      <td>172</td>\n",
       "      <td>65</td>\n",
       "      <td>136</td>\n",
       "      <td>93</td>\n",
       "      <td>87</td>\n",
       "      <td>21.97</td>\n",
       "      <td>...</td>\n",
       "      <td>2021.939048</td>\n",
       "      <td>2.005190</td>\n",
       "      <td>0.504060</td>\n",
       "      <td>43</td>\n",
       "      <td>-49</td>\n",
       "      <td>2023.992222</td>\n",
       "      <td>2.155941</td>\n",
       "      <td>0.546420</td>\n",
       "      <td>125</td>\n",
       "      <td>-53</td>\n",
       "    </tr>\n",
       "    <tr>\n",
       "      <th>4</th>\n",
       "      <td>5</td>\n",
       "      <td>9</td>\n",
       "      <td>0</td>\n",
       "      <td>46</td>\n",
       "      <td>155</td>\n",
       "      <td>65</td>\n",
       "      <td>123</td>\n",
       "      <td>73</td>\n",
       "      <td>73</td>\n",
       "      <td>27.06</td>\n",
       "      <td>...</td>\n",
       "      <td>2010.850952</td>\n",
       "      <td>2.008548</td>\n",
       "      <td>0.474505</td>\n",
       "      <td>64</td>\n",
       "      <td>-54</td>\n",
       "      <td>2011.915079</td>\n",
       "      <td>2.074053</td>\n",
       "      <td>0.354313</td>\n",
       "      <td>64</td>\n",
       "      <td>-80</td>\n",
       "    </tr>\n",
       "  </tbody>\n",
       "</table>\n",
       "<p>5 rows × 34 columns</p>\n",
       "</div>"
      ],
      "text/plain": [
       "   Num.  subject_ID  Sex(M/F)  Age(year)  Height(cm)  Weight(kg)  \\\n",
       "0     1           2         0         45         152          63   \n",
       "1     2           3         0         50         157          50   \n",
       "2     3           6         0         47         150          47   \n",
       "3     4           8         1         45         172          65   \n",
       "4     5           9         0         46         155          65   \n",
       "\n",
       "   Systolic Blood Pressure(mmHg)  Diastolic Blood Pressure(mmHg)  \\\n",
       "0                            161                              89   \n",
       "1                            160                              93   \n",
       "2                            101                              71   \n",
       "3                            136                              93   \n",
       "4                            123                              73   \n",
       "\n",
       "   Heart Rate(b/m)  BMI(kg/m^2)  ...      C3-Mean  C3-Kurtosis  C3-Skewness  \\\n",
       "0               97        27.27  ...  2045.224762     2.223780     0.667033   \n",
       "1               76        20.28  ...  2007.157143     1.883882     0.422054   \n",
       "2               79        20.89  ...  2020.478571     1.817075     0.494501   \n",
       "3               87        21.97  ...  2021.939048     2.005190     0.504060   \n",
       "4               73        27.06  ...  2010.850952     2.008548     0.474505   \n",
       "\n",
       "   C3-MaxSlope  C3-MinSlope       C-Mean  C-Kurtosis  C-Skewness  C-MaxSlope  \\\n",
       "0           65          -66  2038.692381    2.778840    0.662604         447   \n",
       "1           49          -48  2004.373968    2.013632    0.449374          58   \n",
       "2           46          -48  2013.143492    2.355045    0.504403          68   \n",
       "3           43          -49  2023.992222    2.155941    0.546420         125   \n",
       "4           64          -54  2011.915079    2.074053    0.354313          64   \n",
       "\n",
       "   C-MinSlope  \n",
       "0         -87  \n",
       "1         -60  \n",
       "2        -135  \n",
       "3         -53  \n",
       "4         -80  \n",
       "\n",
       "[5 rows x 34 columns]"
      ]
     },
     "execution_count": 170,
     "metadata": {},
     "output_type": "execute_result"
    }
   ],
   "source": [
    "SubjectData.head()"
   ]
  },
  {
   "cell_type": "markdown",
   "metadata": {},
   "source": [
    "### Plotting Heat Map"
   ]
  },
  {
   "cell_type": "code",
   "execution_count": 171,
   "metadata": {},
   "outputs": [],
   "source": [
    "dataplot=sns.heatmap(SubjectData.corr(), cmap=\"YlGnBu\", annot=True)\n",
    "plt.show()"
   ]
  },
  {
   "cell_type": "markdown",
   "metadata": {},
   "source": [
    "### Create Training and Test Sets"
   ]
  },
  {
   "cell_type": "code",
   "execution_count": null,
   "metadata": {},
   "outputs": [],
   "source": [
    "from sklearn.model_selection import train_test_split\n",
    "# X = SubjectData.iloc[:, :-1]\n",
    "X = SubjectData.drop([\n",
    "    'subject_ID',\n",
    "    'cerebral infarction',\n",
    "    'C1-Mean','C1-Kurtosis','C1-Skewness','C1-MaxSlope','C1-MinSlope',\n",
    "    'C2-Mean','C2-Kurtosis','C2-Skewness','C2-MaxSlope','C2-MinSlope',\n",
    "    'C3-Mean','C3-Kurtosis','C3-Skewness','C3-MaxSlope','C3-MinSlope',\n",
    "    ],axis=1)\n",
    "y = SubjectData['cerebral infarction']\n",
    "X_train, X_test, y_train, y_test = train_test_split(X, y, test_size=0.05, random_state=0)"
   ]
  },
  {
   "cell_type": "code",
   "execution_count": null,
   "metadata": {},
   "outputs": [
    {
     "name": "stdout",
     "output_type": "stream",
     "text": [
      "Using OverSampling to balance the dataset SMOTE: \n",
      "Original dataset with cerebral infarction : 188\n",
      "Original dataset without cerebral infarction : 20\n",
      "Over sampled dataset with cerebral infarction : 188\n",
      "Over sampled dataset without cerebral infarction : 188\n",
      "\n",
      "Under sampled dataset with cerebral infarction : 20\n",
      "Under sampled dataset without cerebral infarction : 20\n"
     ]
    }
   ],
   "source": [
    "from imblearn.over_sampling import SMOTE\n",
    "from imblearn.under_sampling import NearMiss\n",
    "print('Using OverSampling to balance the dataset SMOTE: ')\n",
    "print(f'Original dataset with cerebral infarction : {sum(y_train==1)}')\n",
    "print(f'Original dataset without cerebral infarction : {sum(y_train==0)}')\n",
    "\n",
    "smote = SMOTE(random_state = 2)\n",
    "nearMiss = NearMiss()\n",
    "\n",
    "X_train_over, y_train_over = smote.fit_resample(X_train, y_train.ravel())\n",
    "X_train_miss, y_train_miss = nearMiss.fit_resample(X_train, y_train.ravel())\n",
    "\n",
    "\n",
    "print(f'Over sampled dataset with cerebral infarction : {sum(y_train_over==1)}')\n",
    "print(f'Over sampled dataset without cerebral infarction : {sum(y_train_over==0)}')\n",
    "print()\n",
    "print(f'Under sampled dataset with cerebral infarction : {sum(y_train_miss==1)}')\n",
    "print(f'Under sampled dataset without cerebral infarction : {sum(y_train_miss==0)}')"
   ]
  },
  {
   "cell_type": "markdown",
   "metadata": {},
   "source": [
    "## Building Models"
   ]
  },
  {
   "cell_type": "markdown",
   "metadata": {},
   "source": [
    "### Logistic Regression"
   ]
  },
  {
   "cell_type": "code",
   "execution_count": null,
   "metadata": {},
   "outputs": [
    {
     "name": "stdout",
     "output_type": "stream",
     "text": [
      "Accuracy of Logistic regression classifier on training set: 0.90\n",
      "Accuracy of Logistic regression classifier on test set: 1.00\n",
      "Accuracy of Logistic regression classifier on over sampled training set: 0.81\n",
      "Accuracy of Logistic regression classifier on over sampled test set: 0.64\n",
      "Accuracy of Logistic regression classifier on under sampled training set: 0.78\n",
      "Accuracy of Logistic regression classifier on under sampled test set: 0.18\n"
     ]
    },
    {
     "name": "stderr",
     "output_type": "stream",
     "text": [
      "c:\\Users\\Anand\\AppData\\Local\\Programs\\Python\\Python310\\lib\\site-packages\\sklearn\\linear_model\\_logistic.py:444: ConvergenceWarning: lbfgs failed to converge (status=1):\n",
      "STOP: TOTAL NO. of ITERATIONS REACHED LIMIT.\n",
      "\n",
      "Increase the number of iterations (max_iter) or scale the data as shown in:\n",
      "    https://scikit-learn.org/stable/modules/preprocessing.html\n",
      "Please also refer to the documentation for alternative solver options:\n",
      "    https://scikit-learn.org/stable/modules/linear_model.html#logistic-regression\n",
      "  n_iter_i = _check_optimize_result(\n",
      "c:\\Users\\Anand\\AppData\\Local\\Programs\\Python\\Python310\\lib\\site-packages\\sklearn\\linear_model\\_logistic.py:444: ConvergenceWarning: lbfgs failed to converge (status=1):\n",
      "STOP: TOTAL NO. of ITERATIONS REACHED LIMIT.\n",
      "\n",
      "Increase the number of iterations (max_iter) or scale the data as shown in:\n",
      "    https://scikit-learn.org/stable/modules/preprocessing.html\n",
      "Please also refer to the documentation for alternative solver options:\n",
      "    https://scikit-learn.org/stable/modules/linear_model.html#logistic-regression\n",
      "  n_iter_i = _check_optimize_result(\n",
      "c:\\Users\\Anand\\AppData\\Local\\Programs\\Python\\Python310\\lib\\site-packages\\sklearn\\linear_model\\_logistic.py:444: ConvergenceWarning: lbfgs failed to converge (status=1):\n",
      "STOP: TOTAL NO. of ITERATIONS REACHED LIMIT.\n",
      "\n",
      "Increase the number of iterations (max_iter) or scale the data as shown in:\n",
      "    https://scikit-learn.org/stable/modules/preprocessing.html\n",
      "Please also refer to the documentation for alternative solver options:\n",
      "    https://scikit-learn.org/stable/modules/linear_model.html#logistic-regression\n",
      "  n_iter_i = _check_optimize_result(\n"
     ]
    }
   ],
   "source": [
    "from sklearn.linear_model import LogisticRegression\n",
    "LogRegNormal = LogisticRegression()\n",
    "LogRegOver = LogisticRegression()\n",
    "LogRegUnder = LogisticRegression()\n",
    "LogRegNormal.fit(X_train, y_train)\n",
    "LogRegOver.fit(X_train_over, y_train_over)\n",
    "LogRegUnder.fit(X_train_miss, y_train_miss)\n",
    "print(f'Accuracy of Logistic regression classifier on training set: {LogRegNormal.score(X_train, y_train):.2f}')\n",
    "print(f'Accuracy of Logistic regression classifier on test set: {LogRegNormal.score(X_test, y_test):.2f}')\n",
    "\n",
    "print(f'Accuracy of Logistic regression classifier on over sampled training set: {LogRegOver.score(X_train_over, y_train_over):.2f}')\n",
    "print(f'Accuracy of Logistic regression classifier on over sampled test set: {LogRegOver.score(X_test, y_test):.2f}')\n",
    "\n",
    "print(f'Accuracy of Logistic regression classifier on under sampled training set: {LogRegUnder.score(X_train_miss, y_train_miss):.2f}')\n",
    "print(f'Accuracy of Logistic regression classifier on under sampled test set: {LogRegUnder.score(X_test, y_test):.2f}')"
   ]
  },
  {
   "cell_type": "markdown",
   "metadata": {},
   "source": [
    "### Decision Tree"
   ]
  },
  {
   "cell_type": "code",
   "execution_count": null,
   "metadata": {},
   "outputs": [
    {
     "name": "stdout",
     "output_type": "stream",
     "text": [
      "Accuracy of Decision Tree classifier on training set: 1.00\n",
      "Accuracy of Decision Tree classifier on test set: 0.91\n",
      "Accuracy of Decision Tree classifier on over sampled training set: 1.00\n",
      "Accuracy of Decision Tree classifier on over sampled test set: 1.00\n",
      "Accuracy of Decision Tree classifier on under sampled training set: 1.00\n",
      "Accuracy of Decision Tree classifier on under sampled test set: 0.73\n"
     ]
    }
   ],
   "source": [
    "from sklearn.tree import DecisionTreeClassifier\n",
    "DTNormal = DecisionTreeClassifier().fit(X_train, y_train)\n",
    "DTOver = DecisionTreeClassifier().fit(X_train_over, y_train_over)\n",
    "DTUnder = DecisionTreeClassifier().fit(X_train_miss, y_train_miss)\n",
    "print(f'Accuracy of Decision Tree classifier on training set: {DTNormal.score(X_train, y_train):.2f}')\n",
    "print(f'Accuracy of Decision Tree classifier on test set: {DTNormal.score(X_test, y_test):.2f}')\n",
    "\n",
    "print(f'Accuracy of Decision Tree classifier on over sampled training set: {DTOver.score(X_train_over, y_train_over):.2f}')\n",
    "print(f'Accuracy of Decision Tree classifier on over sampled test set: {DTOver.score(X_test, y_test):.2f}')\n",
    "\n",
    "print(f'Accuracy of Decision Tree classifier on under sampled training set: {DTUnder.score(X_train_miss, y_train_miss):.2f}')\n",
    "print(f'Accuracy of Decision Tree classifier on under sampled test set: {DTUnder.score(X_test, y_test):.2f}')"
   ]
  },
  {
   "cell_type": "markdown",
   "metadata": {},
   "source": [
    "### K Nearest Neighbours"
   ]
  },
  {
   "cell_type": "code",
   "execution_count": null,
   "metadata": {},
   "outputs": [
    {
     "name": "stdout",
     "output_type": "stream",
     "text": [
      "Accuracy of K-NN classifier on training set: 0.92\n",
      "Accuracy of K-NN classifier on test set: 0.91\n"
     ]
    }
   ],
   "source": [
    "from sklearn.neighbors import KNeighborsClassifier\n",
    "knn = KNeighborsClassifier()\n",
    "knn.fit(X_train, y_train)\n",
    "print('Accuracy of K-NN classifier on training set: {:.2f}'\n",
    "     .format(knn.score(X_train, y_train)))\n",
    "print('Accuracy of K-NN classifier on test set: {:.2f}'\n",
    "     .format(knn.score(X_test, y_test)))"
   ]
  },
  {
   "cell_type": "markdown",
   "metadata": {},
   "source": [
    "### Support Vector Machine (SVM)"
   ]
  },
  {
   "cell_type": "code",
   "execution_count": null,
   "metadata": {},
   "outputs": [
    {
     "name": "stdout",
     "output_type": "stream",
     "text": [
      "Accuracy of SVM classifier on training set: 0.90\n",
      "Accuracy of SVM classifier on test set: 1.00\n"
     ]
    }
   ],
   "source": [
    "from sklearn.svm import SVC\n",
    "svm = SVC()\n",
    "svm.fit(X_train, y_train)\n",
    "print('Accuracy of SVM classifier on training set: {:.2f}'\n",
    "     .format(svm.score(X_train, y_train)))\n",
    "print('Accuracy of SVM classifier on test set: {:.2f}'\n",
    "     .format(svm.score(X_test, y_test)))"
   ]
  },
  {
   "cell_type": "code",
   "execution_count": null,
   "metadata": {},
   "outputs": [
    {
     "name": "stdout",
     "output_type": "stream",
     "text": [
      "TN: 0\n",
      "FP: 0\n",
      "FN: 1\n",
      "TP: 10\n",
      "Precision: 1.0\n",
      "Recall: 0.9090909090909091\n",
      "F1 Score: 0.9523809523809523\n",
      "[[0, 0], [1, 10]]\n",
      "[[ 0  0]\n",
      " [ 1 10]]\n"
     ]
    }
   ],
   "source": [
    "y_pred = DTNormal.predict(X_test)\n",
    "\n",
    "\n",
    "cm=Conf(y_test, y_pred)\n",
    "print(cm)\n",
    "from sklearn.metrics import confusion_matrix\n",
    "cm = confusion_matrix(y_test, y_pred)\n",
    "print(cm)"
   ]
  }
 ],
 "metadata": {
  "interpreter": {
   "hash": "6f7424ddc6acba2804043b248ff274042f691d866d3a9089dd2c7f50e673cb6d"
  },
  "kernelspec": {
   "display_name": "Python 3 (ipykernel)",
   "language": "python",
   "name": "python3"
  },
  "language_info": {
   "codemirror_mode": {
    "name": "ipython",
    "version": 3
   },
   "file_extension": ".py",
   "mimetype": "text/x-python",
   "name": "python",
   "nbconvert_exporter": "python",
   "pygments_lexer": "ipython3",
   "version": "3.9.7"
  }
 },
 "nbformat": 4,
 "nbformat_minor": 2
}
